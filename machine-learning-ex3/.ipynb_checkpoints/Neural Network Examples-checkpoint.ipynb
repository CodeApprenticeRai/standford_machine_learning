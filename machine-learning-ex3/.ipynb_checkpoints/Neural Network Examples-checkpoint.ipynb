{
 "cells": [
  {
   "cell_type": "code",
   "execution_count": 31,
   "metadata": {},
   "outputs": [
    {
     "name": "stdout",
     "output_type": "stream",
     "text": [
      "(3, 1)\n"
     ]
    },
    {
     "data": {
      "text/plain": [
       "0.0"
      ]
     },
     "execution_count": 31,
     "metadata": {},
     "output_type": "execute_result"
    }
   ],
   "source": [
    "## Neural Network Examples \n",
    "\n",
    "import numpy as np \n",
    "\n",
    "## Logical AND \n",
    "\n",
    "\"\"\"\n",
    "One Input Layer, One Output, No Hidder Layers\n",
    "\"\"\"\n",
    "\n",
    "# X is a 2 x 1 np array ( matrix) \n",
    "x0 = 1\n",
    "x1 = 0\n",
    "x2 = 1\n",
    "\n",
    "X = np.array( [\n",
    "    [x0],\n",
    "    [x1],\n",
    "    [x2],\n",
    "])\n",
    "\n",
    "# I've made my Theta a list of arrays \n",
    "theta = []\n",
    "\n",
    "#Initialize theta0 to pretrained values\n",
    "theta0 = np.array([\n",
    "    [-30],\n",
    "    [20],\n",
    "    [20],\n",
    "])\n",
    "\n",
    "#Append Theta0\n",
    "theta.append( theta0 )\n",
    "\n",
    "\n",
    "\"\"\"  IGNORE\n",
    "# This is a Helper Function for the next function\n",
    "# # Round up or down depending on value given\n",
    "# def logistic_round(value):\n",
    "#     if value >= 0.5:\n",
    "#         return 1\n",
    "#     else:\n",
    "#         return 0\n",
    "\"\"\"\n",
    "\n",
    "#Sigmoid is our activation function\n",
    "def sigmoid(X):\n",
    "    return 1 / (1 + np.exp(-X) )\n",
    "\n",
    "    \n",
    "# theta' * X\n",
    "z1 = theta[0].T.dot( X )\n",
    "\n",
    "print(X.shape)\n",
    "\n",
    "# # a1 is our output\n",
    "a1 = sigmoid(z1)\n",
    "\n",
    "# Our Hypothesis for this single example\n",
    "print ( round(a1[0][0]) ) "
   ]
  },
  {
   "cell_type": "code",
   "execution_count": 54,
   "metadata": {},
   "outputs": [
    {
     "name": "stdout",
     "output_type": "stream",
     "text": [
      "i: 0 j: 0\n",
      "i: 0 j: 1\n",
      "i: 1 j: 0\n",
      "i: 1 j: 1\n",
      "This is what the cases look like:\n",
      "\n",
      "[[0. 0. 0. 0.]\n",
      " [0. 0. 0. 0.]\n",
      " [0. 0. 0. 0.]]\n",
      "\n",
      "Here is the output.\n",
      "Each column is a different case:\n",
      "[[0.5 0.5 0.5 0.5]]\n"
     ]
    }
   ],
   "source": [
    "# Batching Examples\n",
    "\n",
    "import pprint as pp\n",
    "\n",
    "#Let X be a matrix where each column is a case\n",
    "X = np.empty([3,4])\n",
    "\n",
    "#Create a function to generate all four logic AND cases\n",
    "for i in range(2):\n",
    "    for j in range(2):\n",
    "#         print(\"i: {}\".format(i), \"j: {}\".format(j))\n",
    "        np.append(\n",
    "            X, \n",
    "            np.array([\n",
    "                [1],\n",
    "                [i],\n",
    "                [j],\n",
    "            ]),\n",
    "        )\n",
    "\n",
    "print(\"This is what the cases look like:\\n\", X, sep=\"\\n\")\n",
    "\n",
    "\n",
    "#Theta is already defined, so let's perform a batch computation on the four cases\n",
    "z = theta[0].T.dot( X )\n",
    "a = sigmoid(z)\n",
    "\n",
    "print (\"\\nHere is the output.\", \"Each column is a different case:\", a, sep=\"\\n\" )"
   ]
  },
  {
   "cell_type": "code",
   "execution_count": null,
   "metadata": {},
   "outputs": [],
   "source": [
    "\"\"\"\n",
    "Not sure why X isn't being built properly \n",
    "I'll deal with that next time around, maybe.  \n",
    "\"\"\""
   ]
  },
  {
   "cell_type": "code",
   "execution_count": null,
   "metadata": {},
   "outputs": [],
   "source": []
  }
 ],
 "metadata": {
  "kernelspec": {
   "display_name": "Python 3",
   "language": "python",
   "name": "python3"
  },
  "language_info": {
   "codemirror_mode": {
    "name": "ipython",
    "version": 3
   },
   "file_extension": ".py",
   "mimetype": "text/x-python",
   "name": "python",
   "nbconvert_exporter": "python",
   "pygments_lexer": "ipython3",
   "version": "3.6.4"
  }
 },
 "nbformat": 4,
 "nbformat_minor": 2
}
